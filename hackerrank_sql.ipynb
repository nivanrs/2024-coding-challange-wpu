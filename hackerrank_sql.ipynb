{
 "cells": [
  {
   "cell_type": "markdown",
   "metadata": {},
   "source": [
    "Query the names of all the Japanese cities in the CITY table. The COUNTRYCODE for Japan is JPN.\n",
    "The CITY table is described as follows:![Alt text](image.png)"
   ]
  },
  {
   "cell_type": "code",
   "execution_count": null,
   "metadata": {
    "vscode": {
     "languageId": "sql"
    }
   },
   "outputs": [],
   "source": [
    "SELECT NAME\n",
    "FROM CITY\n",
    "WHERE COUNTRYCODE = \"JPN\""
   ]
  },
  {
   "cell_type": "markdown",
   "metadata": {},
   "source": [
    "Query the two cities in STATION with the shortest and longest CITY names, as well as their respective lengths (i.e.: number of characters in the name). If there is more than one smallest or largest city, choose the one that comes first when ordered alphabetically.\n",
    "The STATION table is described as follows:\n",
    "\n",
    "![Alt text](image-1.png)\n",
    "\n",
    "where LAT_N is the northern latitude and LONG_W is the western longitude.\n",
    "\n",
    "Sample Input\n",
    "\n",
    "For example, CITY has four entries: DEF, ABC, PQRS and WXY.\n",
    "\n",
    "Sample Output\n",
    "\n",
    "ABC 3\n",
    "PQRS 4\n",
    "Explanation\n",
    "\n",
    "When ordered alphabetically, the CITY names are listed as ABC, DEF, PQRS, and WXY, with lengths  and . The longest name is PQRS, but there are  options for shortest named city. Choose ABC, because it comes first alphabetically.\n",
    "\n",
    "Note\n",
    "You can write two separate queries to get the desired output. It need not be a single query."
   ]
  },
  {
   "cell_type": "code",
   "execution_count": null,
   "metadata": {
    "vscode": {
     "languageId": "sql"
    }
   },
   "outputs": [],
   "source": [
    "(SELECT CITY, LENGTH(CITY) AS LENGTH\n",
    "FROM STATION\n",
    "ORDER BY LENGTH(CITY) ASC, CITY ASC\n",
    "LIMIT 1)\n",
    "UNION ALL\n",
    "(SELECT CITY, LENGTH(CITY) AS LENGTH\n",
    "FROM STATION\n",
    "ORDER BY LENGTH(CITY) DESC, CITY ASC\n",
    "LIMIT 1);"
   ]
  },
  {
   "cell_type": "markdown",
   "metadata": {},
   "source": [
    "notes: work after applying bracket, union and union all difference are in union all the duplicate isnt eliminated but it union its eliminated"
   ]
  },
  {
   "cell_type": "markdown",
   "metadata": {},
   "source": [
    "Query the list of CITY names starting with vowels (i.e., a, e, i, o, or u) from STATION. Your result cannot contain duplicates.\n",
    "\n",
    "Input Format\n",
    "\n",
    "The STATION table is described as follows:\n",
    "\n",
    "![Alt text](image-2.png)\n",
    "\n",
    "where LAT_N is the northern latitude and LONG_W is the western longitude."
   ]
  },
  {
   "cell_type": "code",
   "execution_count": null,
   "metadata": {
    "vscode": {
     "languageId": "sql"
    }
   },
   "outputs": [],
   "source": [
    "SELECT DISTINCT CITY\n",
    "FROM STATION\n",
    "WHERE CITY LIKE 'A%'\n",
    "   OR CITY LIKE 'E%'\n",
    "   OR CITY LIKE 'I%'\n",
    "   OR CITY LIKE 'O%'\n",
    "   OR CITY LIKE 'U%';"
   ]
  },
  {
   "cell_type": "markdown",
   "metadata": {},
   "source": [
    "Original answer is:\n",
    "```sql\n",
    "select distinct(city) from station\n",
    "where city in (a%, e%, i%, o%, u%)\n",
    "```\n",
    "In operator didnt work because it exact matcher within a list of value"
   ]
  },
  {
   "cell_type": "code",
   "execution_count": null,
   "metadata": {
    "vscode": {
     "languageId": "sql"
    }
   },
   "outputs": [],
   "source": [
    "the original "
   ]
  }
 ],
 "metadata": {
  "language_info": {
   "name": "python"
  }
 },
 "nbformat": 4,
 "nbformat_minor": 2
}
