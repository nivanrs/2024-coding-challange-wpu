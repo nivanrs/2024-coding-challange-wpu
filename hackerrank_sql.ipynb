{
 "cells": [
  {
   "cell_type": "markdown",
   "metadata": {},
   "source": [
    "Query the names of all the Japanese cities in the CITY table. The COUNTRYCODE for Japan is JPN.\n",
    "The CITY table is described as follows:![Alt text](image.png)"
   ]
  },
  {
   "cell_type": "code",
   "execution_count": null,
   "metadata": {
    "vscode": {
     "languageId": "sql"
    }
   },
   "outputs": [],
   "source": [
    "SELECT NAME\n",
    "FROM CITY\n",
    "WHERE COUNTRYCODE = \"JPN\""
   ]
  },
  {
   "cell_type": "markdown",
   "metadata": {},
   "source": [
    "Query the two cities in STATION with the shortest and longest CITY names, as well as their respective lengths (i.e.: number of characters in the name). If there is more than one smallest or largest city, choose the one that comes first when ordered alphabetically.\n",
    "The STATION table is described as follows:\n",
    "\n",
    "![Alt text](image-1.png)\n",
    "\n",
    "where LAT_N is the northern latitude and LONG_W is the western longitude.\n",
    "\n",
    "Sample Input\n",
    "\n",
    "For example, CITY has four entries: DEF, ABC, PQRS and WXY.\n",
    "\n",
    "Sample Output\n",
    "\n",
    "ABC 3\n",
    "PQRS 4\n",
    "Explanation\n",
    "\n",
    "When ordered alphabetically, the CITY names are listed as ABC, DEF, PQRS, and WXY, with lengths  and . The longest name is PQRS, but there are  options for shortest named city. Choose ABC, because it comes first alphabetically.\n",
    "\n",
    "Note\n",
    "You can write two separate queries to get the desired output. It need not be a single query."
   ]
  },
  {
   "cell_type": "code",
   "execution_count": null,
   "metadata": {
    "vscode": {
     "languageId": "sql"
    }
   },
   "outputs": [],
   "source": [
    "(SELECT CITY, LENGTH(CITY) AS LENGTH\n",
    "FROM STATION\n",
    "ORDER BY LENGTH(CITY) ASC, CITY ASC\n",
    "LIMIT 1)\n",
    "UNION ALL\n",
    "(SELECT CITY, LENGTH(CITY) AS LENGTH\n",
    "FROM STATION\n",
    "ORDER BY LENGTH(CITY) DESC, CITY ASC\n",
    "LIMIT 1);"
   ]
  },
  {
   "cell_type": "markdown",
   "metadata": {},
   "source": [
    "notes: work after applying bracket, union and union all difference are in union all the duplicate isnt eliminated but it union its eliminated"
   ]
  },
  {
   "cell_type": "markdown",
   "metadata": {},
   "source": [
    "Query the list of CITY names starting with vowels (i.e., a, e, i, o, or u) from STATION. Your result cannot contain duplicates.\n",
    "\n",
    "Input Format\n",
    "\n",
    "The STATION table is described as follows:\n",
    "\n",
    "![Alt text](image-2.png)\n",
    "\n",
    "where LAT_N is the northern latitude and LONG_W is the western longitude."
   ]
  },
  {
   "cell_type": "code",
   "execution_count": null,
   "metadata": {
    "vscode": {
     "languageId": "sql"
    }
   },
   "outputs": [],
   "source": [
    "SELECT DISTINCT CITY\n",
    "FROM STATION\n",
    "WHERE CITY LIKE 'A%'\n",
    "   OR CITY LIKE 'E%'\n",
    "   OR CITY LIKE 'I%'\n",
    "   OR CITY LIKE 'O%'\n",
    "   OR CITY LIKE 'U%';"
   ]
  },
  {
   "cell_type": "markdown",
   "metadata": {},
   "source": [
    "Original answer is:\n",
    "```sql\n",
    "select distinct(city) from station\n",
    "where city in (a%, e%, i%, o%, u%)\n",
    "```\n",
    "In operator didnt work because it exact matcher within a list of value"
   ]
  },
  {
   "cell_type": "markdown",
   "metadata": {},
   "source": [
    "Query the list of CITY names ending with vowels (a, e, i, o, u) from STATION. Your result cannot contain duplicates."
   ]
  },
  {
   "cell_type": "code",
   "execution_count": null,
   "metadata": {
    "vscode": {
     "languageId": "sql"
    }
   },
   "outputs": [],
   "source": [
    "SELECT DISTINCT CITY\n",
    "FROM STATION\n",
    "WHERE CITY LIKE '%A'\n",
    "   OR CITY LIKE '%E'\n",
    "   OR CITY LIKE '%I'\n",
    "   OR CITY LIKE '%O'\n",
    "   OR CITY LIKE '%U';"
   ]
  },
  {
   "cell_type": "markdown",
   "metadata": {},
   "source": [
    "Query the list of CITY names from STATION which have vowels (i.e., a, e, i, o, and u) as both their first and last characters. Your result cannot contain duplicates."
   ]
  },
  {
   "cell_type": "code",
   "execution_count": null,
   "metadata": {
    "vscode": {
     "languageId": "sql"
    }
   },
   "outputs": [],
   "source": [
    "SELECT DISTINCT CITY\n",
    "FROM STATION\n",
    "WHERE LOWER(LEFT(CITY, 1)) IN ('a', 'e', 'i', 'o', 'u')\n",
    "  AND LOWER(RIGHT(CITY, 1)) IN ('a', 'e', 'i', 'o', 'u');"
   ]
  },
  {
   "cell_type": "code",
   "execution_count": null,
   "metadata": {
    "vscode": {
     "languageId": "sql"
    }
   },
   "outputs": [],
   "source": [
    "SELECT DISTINCT CITY\n",
    "FROM STATION\n",
    "WHERE SUBSTRING(CITY, 1, 1) IN ('A', 'E', 'I', 'O', 'U')\n",
    "  AND SUBSTRING(CITY, LENGTH(CITY), 1) IN ('A', 'E', 'I', 'O', 'U');\n"
   ]
  },
  {
   "cell_type": "code",
   "execution_count": null,
   "metadata": {
    "vscode": {
     "languageId": "sql"
    }
   },
   "outputs": [],
   "source": [
    "SELECT DISTINCT CITY\n",
    "FROM STATION\n",
    "WHERE CITY REGEXP '^([AEIOU]).*([AEIOU])$';\n"
   ]
  },
  {
   "cell_type": "markdown",
   "metadata": {},
   "source": [
    "Query the list of CITY names from STATION that do not start with vowels. Your result cannot contain duplicates."
   ]
  },
  {
   "cell_type": "code",
   "execution_count": null,
   "metadata": {
    "vscode": {
     "languageId": "sql"
    }
   },
   "outputs": [],
   "source": [
    "SELECT DISTINCT CITY\n",
    "FROM STATION\n",
    "WHERE 1=1\n",
    "  and CITY NOT LIKE 'A%'\n",
    "  AND CITY NOT LIKE 'E%'\n",
    "  AND CITY NOT LIKE 'I%'\n",
    "  AND CITY NOT LIKE 'O%'\n",
    "  AND CITY NOT LIKE 'U%';\n"
   ]
  },
  {
   "cell_type": "markdown",
   "metadata": {},
   "source": [
    "Query the list of CITY names from STATION that do not end with vowels. Your result cannot contain duplicates.\n",
    "\n",
    "Input Format\n",
    "\n",
    "The STATION table is described as follows:"
   ]
  },
  {
   "cell_type": "code",
   "execution_count": null,
   "metadata": {
    "vscode": {
     "languageId": "sql"
    }
   },
   "outputs": [],
   "source": [
    "SELECT DISTINCT CITY\n",
    "FROM STATION\n",
    "WHERE 1=1\n",
    "  and CITY NOT LIKE '%A'\n",
    "  AND CITY NOT LIKE '%E'\n",
    "  AND CITY NOT LIKE '%I'\n",
    "  AND CITY NOT LIKE '%O'\n",
    "  AND CITY NOT LIKE '%U';\n"
   ]
  },
  {
   "cell_type": "markdown",
   "metadata": {},
   "source": [
    "Query the list of CITY names from STATION that either do not start with vowels or do not end with vowels. Your result cannot contain duplicates.\n",
    "\n",
    "Input Format\n",
    "\n",
    "The STATION table is described as follows:"
   ]
  },
  {
   "cell_type": "code",
   "execution_count": null,
   "metadata": {
    "vscode": {
     "languageId": "sql"
    }
   },
   "outputs": [],
   "source": [
    "SELECT DISTINCT CITY\n",
    "FROM STATION\n",
    "WHERE CITY NOT REGEXP '^([AEIOU]).*([AEIOU])$';\n"
   ]
  },
  {
   "cell_type": "markdown",
   "metadata": {},
   "source": [
    "Query the list of CITY names from STATION that do not start with vowels and do not end with vowels. Your result cannot contain duplicates."
   ]
  },
  {
   "cell_type": "code",
   "execution_count": null,
   "metadata": {
    "vscode": {
     "languageId": "sql"
    }
   },
   "outputs": [],
   "source": [
    "SELECT DISTINCT CITY\n",
    "FROM STATION\n",
    "WHERE CITY NOT REGEXP '^[AEIOU]'\n",
    "  AND CITY NOT REGEXP '[AEIOU]$';\n"
   ]
  },
  {
   "cell_type": "markdown",
   "metadata": {},
   "source": [
    "Query the Name of any student in STUDENTS who scored higher than  Marks. Order your output by the last three characters of each name. If two or more students both have names ending in the same last three characters (i.e.: Bobby, Robby, etc.), secondary sort them by ascending ID.\n",
    "\n",
    "![Alt text](image-3.png)\n",
    "\n",
    "The STUDENTS table is described as follows:  The Name column only contains uppercase (A-Z) and lowercase (a-z) letters.\n",
    "\n",
    "Sample Input\n",
    "\n",
    "![Alt text](image-4.png)\n",
    "\n",
    "Sample Output\n",
    "\n",
    "Ashley\n",
    "Julia\n",
    "Belvet\n",
    "Explanation\n",
    "\n",
    "Only Ashley, Julia, and Belvet have Marks > . If you look at the last three characters of each of their names, there are no duplicates and 'ley' < 'lia' < 'vet'."
   ]
  },
  {
   "cell_type": "code",
   "execution_count": null,
   "metadata": {
    "vscode": {
     "languageId": "sql"
    }
   },
   "outputs": [],
   "source": [
    "select name from students\n",
    "where 1=1\n",
    "and Marks >75\n",
    "order by right(Name,3) asc, ID asc"
   ]
  },
  {
   "cell_type": "markdown",
   "metadata": {},
   "source": []
  },
  {
   "cell_type": "code",
   "execution_count": null,
   "metadata": {
    "vscode": {
     "languageId": "sql"
    }
   },
   "outputs": [],
   "source": [
    "SELECT name\n",
    "FROM Employee\n",
    "ORDER BY name;"
   ]
  },
  {
   "cell_type": "markdown",
   "metadata": {},
   "source": [
    "Write a query that prints a list of employee names (i.e.: the name attribute) for employees in Employee having a salary greater than  per month who have been employees for less than  months. Sort your result by ascending employee_id.\n",
    "\n",
    "Input Format\n",
    "\n",
    "The Employee table containing employee data for a company is described as follows:\n",
    "\n",
    "\n",
    "\n",
    "where employee_id is an employee's ID number, name is their name, months is the total number of months they've been working for the company, and salary is the their monthly salary.\n",
    "\n",
    "Sample Input\n",
    "\n",
    "\n",
    "\n",
    "Sample Output\n",
    "\n",
    "Angela\n",
    "Michael\n",
    "Todd\n",
    "Joe\n",
    "Explanation\n",
    "\n",
    "Angela has been an employee for  month and earns  per month.\n",
    "\n",
    "Michael has been an employee for  months and earns  per month.\n",
    "\n",
    "Todd has been an employee for  months and earns  per month.\n",
    "\n",
    "Joe has been an employee for  months and earns  per month.\n",
    "\n",
    "We order our output by ascending employee_id."
   ]
  },
  {
   "cell_type": "code",
   "execution_count": null,
   "metadata": {
    "vscode": {
     "languageId": "sql"
    }
   },
   "outputs": [],
   "source": [
    "select name\n",
    "from Employee\n",
    "where 1=1\n",
    "and salary > 2000\n",
    "and months <10"
   ]
  },
  {
   "cell_type": "markdown",
   "metadata": {},
   "source": [
    "Julia asked her students to create some coding challenges. Write a query to print the hacker_id, name, and the total number of challenges created by each student. Sort your results by the total number of challenges in descending order. If more than one student created the same number of challenges, then sort the result by hacker_id. If more than one student created the same number of challenges and the count is less than the maximum number of challenges created, then exclude those students from the result.\n",
    "\n",
    "Input Format\n",
    "\n",
    "The following tables contain challenge data:\n",
    "\n",
    "Hackers: The hacker_id is the id of the hacker, and name is the name of the hacker. \n",
    "\n",
    "Challenges: The challenge_id is the id of the challenge, and hacker_id is the id of the student who created the challenge. \n",
    "\n",
    "Sample Input 0\n",
    "\n",
    "Hackers Table:  Challenges Table: \n",
    "\n",
    "Sample Output 0\n",
    "\n",
    "21283 Angela 6\n",
    "88255 Patrick 5\n",
    "96196 Lisa 1\n",
    "Sample Input 1\n",
    "\n",
    "Hackers Table:  Challenges Table: \n",
    "\n",
    "Sample Output 1\n",
    "\n",
    "12299 Rose 6\n",
    "34856 Angela 6\n",
    "79345 Frank 4\n",
    "80491 Patrick 3\n",
    "81041 Lisa 1\n",
    "Explanation\n",
    "\n",
    "For Sample Case 0, we can get the following details:\n",
    "\n",
    "Students  and  both created  challenges, but the maximum number of challenges created is  so these students are excluded from the result.\n",
    "\n",
    "For Sample Case 1, we can get the following details:\n",
    "\n",
    "Students  and  both created  challenges. Because  is the maximum number of challenges created, these students are included in the result."
   ]
  },
  {
   "cell_type": "markdown",
   "metadata": {},
   "source": [
    "Write a query identifying the type of each record in the TRIANGLES table using its three side lengths. Output one of the following statements for each record in the table:\n",
    "\n",
    "Equilateral: It's a triangle with  sides of equal length.\n",
    "Isosceles: It's a triangle with  sides of equal length.\n",
    "Scalene: It's a triangle with  sides of differing lengths.\n",
    "Not A Triangle: The given values of A, B, and C don't form a triangle.\n",
    "Input Format\n",
    "\n",
    "The TRIANGLES table is described as follows:\n",
    "\n",
    "\n",
    "\n",
    "Each row in the table denotes the lengths of each of a triangle's three sides.\n",
    "\n",
    "Sample Input\n",
    "\n",
    "\n",
    "\n",
    "Sample Output\n",
    "\n",
    "Isosceles\n",
    "Equilateral\n",
    "Scalene\n",
    "Not A Triangle\n",
    "Explanation\n",
    "\n",
    "Values in the tuple  form an Isosceles triangle, because .\n",
    "Values in the tuple  form an Equilateral triangle, because . Values in the tuple  form a Scalene triangle, because .\n",
    "Values in the tuple  cannot form a triangle because the combined value of sides  and  is not larger than that of side ."
   ]
  },
  {
   "cell_type": "code",
   "execution_count": null,
   "metadata": {
    "vscode": {
     "languageId": "sql"
    }
   },
   "outputs": [],
   "source": [
    "SELECT \n",
    "  CASE \n",
    "    WHEN (A + B <= C) OR (A + C <= B) OR (B + C <= A) THEN 'Not A Triangle'\n",
    "    WHEN A = B AND B = C THEN 'Equilateral'\n",
    "    WHEN A = B OR A = C OR B = C THEN 'Isosceles'\n",
    "    ELSE 'Scalene'\n",
    "  END AS triangle_type\n",
    "FROM TRIANGLES;"
   ]
  }
 ],
 "metadata": {
  "language_info": {
   "name": "python"
  }
 },
 "nbformat": 4,
 "nbformat_minor": 2
}
