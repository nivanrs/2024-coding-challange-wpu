{
 "cells": [
  {
   "cell_type": "markdown",
   "metadata": {},
   "source": [
    "1.\tRunning hadoop on your local machine using hadoop. The file named docker compose and config.\n",
    "\n",
    "\n",
    "there are two ways to initiati docker file, form command prompt and from docker apps\n",
    "\n",
    "to run Hadoop can refer to this pages: https://hub.docker.com/r/apache/hadoop.\n",
    "\n",
    "create yaml file and\n",
    "create config file from the site\n",
    "\n",
    "docker-compose up -d\n",
    "docker-compose -f docker-compose-hadoop.yml logs  \n",
    "\n",
    "if have done this step before, just start from starting hadoop"
   ]
  },
  {
   "cell_type": "markdown",
   "metadata": {},
   "source": []
  },
  {
   "cell_type": "markdown",
   "metadata": {},
   "source": []
  }
 ],
 "metadata": {
  "language_info": {
   "name": "python"
  }
 },
 "nbformat": 4,
 "nbformat_minor": 2
}
