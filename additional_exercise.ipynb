{
 "cells": [
  {
   "cell_type": "markdown",
   "metadata": {},
   "source": [
    "# Additional Exercise"
   ]
  },
  {
   "cell_type": "markdown",
   "metadata": {},
   "source": [
    "## 1: Even or Odd\n",
    "\n",
    "<a href=\"https://www.codewars.com/kata/53da3dbb4a5168369a0000fe/solutions/python\">Even or Odd Link</a>\n",
    "\n",
    "Create a function that takes an integer as an argument and returns \"Even\" for even numbers or \"Odd\" for odd numbers."
   ]
  },
  {
   "cell_type": "code",
   "execution_count": 11,
   "metadata": {},
   "outputs": [
    {
     "name": "stdout",
     "output_type": "stream",
     "text": [
      "Even\n"
     ]
    }
   ],
   "source": [
    "def even_or_odd(number):\n",
    "    evaluator = lambda number: \"Even\" if number % 2 == 0 else \"Odd\"\n",
    "    return evaluator(number)\n",
    "\n",
    "print(even_or_odd(2)) # even"
   ]
  },
  {
   "cell_type": "markdown",
   "metadata": {},
   "source": [
    "this exercise demostrate how to use lambda function mix with if statement.\n",
    "<br> the original form is: \n",
    "\n",
    "```python \n",
    "lambda <arguments> : <statement1> if <condition> else <statement2> \n",
    "```\n"
   ]
  },
  {
   "cell_type": "code",
   "execution_count": 10,
   "metadata": {},
   "outputs": [
    {
     "name": "stdout",
     "output_type": "stream",
     "text": [
      "Even\n"
     ]
    }
   ],
   "source": [
    "def even_or_odd(number):\n",
    "\treturn 'Odd' if number % 2 else 'Even'\n",
    "print(even_or_odd(2)) # even"
   ]
  },
  {
   "cell_type": "markdown",
   "metadata": {},
   "source": [
    "### SQL version"
   ]
  },
  {
   "cell_type": "markdown",
   "metadata": {},
   "source": [
    "You will be given a table numbers, with one column number.\n",
    "Return a dataset with two columns: number and is_even, where number contains the original input value, and is_even containing \"Even\" or \"Odd\" depending on number column values.\n",
    "\n",
    "#### Numbers table schema\n",
    "* number INT\n",
    "\n",
    "#### Output table schema\n",
    "* number  INT\n",
    "* is_even STRING\n",
    "\n",
    "#### Solution:\n",
    "```SQL\n",
    "SELECT \n",
    "number, \n",
    "CASE WHEN number % 2 = 0 THEN 'Even' ELSE 'Odd' END AS is_even \n",
    "FROM numbers\n",
    "```\n",
    "\n",
    "#### What we learn\n",
    "- untuk membuat kolom baru bisa menggunakan case when"
   ]
  },
  {
   "cell_type": "markdown",
   "metadata": {},
   "source": [
    "# 543. Diameter of Binary Tree\n",
    "\n",
    "link: https://leetcode.com/problems/diameter-of-binary-tree/description/?envType=daily-question&envId=2024-02-27\n",
    "\n",
    "Given the root of a binary tree, return the length of the diameter of the tree.\n",
    "\n",
    "The diameter of a binary tree is the length of the longest path between any two nodes in a tree. This path may or may not pass through the root.\n",
    "\n",
    "The length of a path between two nodes is represented by the number of edges between them.\n",
    "\n",
    " \n",
    "\n",
    "Example 1:\n",
    "\n",
    "\n",
    "Input: root = [1,2,3,4,5]\n",
    "Output: 3\n",
    "Explanation: 3 is the length of the path [4,2,1,3] or [5,2,1,3].\n",
    "Example 2:\n",
    "\n",
    "Input: root = [1,2]\n",
    "Output: 1\n",
    " \n",
    "\n",
    "Constraints:\n",
    "\n",
    "The number of nodes in the tree is in the range [1, 104].\n",
    "-100 <= Node.val <= 100\n",
    "\n"
   ]
  },
  {
   "cell_type": "code",
   "execution_count": 5,
   "metadata": {},
   "outputs": [
    {
     "ename": "NameError",
     "evalue": "name 'Optional' is not defined",
     "output_type": "error",
     "traceback": [
      "\u001b[0;31m---------------------------------------------------------------------------\u001b[0m",
      "\u001b[0;31mNameError\u001b[0m                                 Traceback (most recent call last)",
      "\u001b[1;32m/Users/moladin/Library/Mobile Documents/com~apple~CloudDocs/code/wpu-codng/2024-coding-challange-wpu/additional_exercise.ipynb Cell 9\u001b[0m line \u001b[0;36m8\n\u001b[1;32m      <a href='vscode-notebook-cell:/Users/moladin/Library/Mobile%20Documents/com~apple~CloudDocs/code/wpu-codng/2024-coding-challange-wpu/additional_exercise.ipynb#X13sZmlsZQ%3D%3D?line=4'>5</a>\u001b[0m         \u001b[39mself\u001b[39m\u001b[39m.\u001b[39mleft \u001b[39m=\u001b[39m left\n\u001b[1;32m      <a href='vscode-notebook-cell:/Users/moladin/Library/Mobile%20Documents/com~apple~CloudDocs/code/wpu-codng/2024-coding-challange-wpu/additional_exercise.ipynb#X13sZmlsZQ%3D%3D?line=5'>6</a>\u001b[0m         \u001b[39mself\u001b[39m\u001b[39m.\u001b[39mright \u001b[39m=\u001b[39m right\n\u001b[0;32m----> <a href='vscode-notebook-cell:/Users/moladin/Library/Mobile%20Documents/com~apple~CloudDocs/code/wpu-codng/2024-coding-challange-wpu/additional_exercise.ipynb#X13sZmlsZQ%3D%3D?line=7'>8</a>\u001b[0m \u001b[39mclass\u001b[39;00m \u001b[39mSolution\u001b[39;00m:\n\u001b[1;32m      <a href='vscode-notebook-cell:/Users/moladin/Library/Mobile%20Documents/com~apple~CloudDocs/code/wpu-codng/2024-coding-challange-wpu/additional_exercise.ipynb#X13sZmlsZQ%3D%3D?line=8'>9</a>\u001b[0m     \u001b[39mdef\u001b[39;00m \u001b[39mdiameterOfBinaryTree\u001b[39m(\u001b[39mself\u001b[39m, root: Optional[TreeNode]) \u001b[39m-\u001b[39m\u001b[39m>\u001b[39m \u001b[39mint\u001b[39m:\n\u001b[1;32m     <a href='vscode-notebook-cell:/Users/moladin/Library/Mobile%20Documents/com~apple~CloudDocs/code/wpu-codng/2024-coding-challange-wpu/additional_exercise.ipynb#X13sZmlsZQ%3D%3D?line=9'>10</a>\u001b[0m         max_diameter \u001b[39m=\u001b[39m \u001b[39m0\u001b[39m\n",
      "\u001b[1;32m/Users/moladin/Library/Mobile Documents/com~apple~CloudDocs/code/wpu-codng/2024-coding-challange-wpu/additional_exercise.ipynb Cell 9\u001b[0m line \u001b[0;36m9\n\u001b[1;32m      <a href='vscode-notebook-cell:/Users/moladin/Library/Mobile%20Documents/com~apple~CloudDocs/code/wpu-codng/2024-coding-challange-wpu/additional_exercise.ipynb#X13sZmlsZQ%3D%3D?line=7'>8</a>\u001b[0m \u001b[39mclass\u001b[39;00m \u001b[39mSolution\u001b[39;00m:\n\u001b[0;32m----> <a href='vscode-notebook-cell:/Users/moladin/Library/Mobile%20Documents/com~apple~CloudDocs/code/wpu-codng/2024-coding-challange-wpu/additional_exercise.ipynb#X13sZmlsZQ%3D%3D?line=8'>9</a>\u001b[0m     \u001b[39mdef\u001b[39;00m \u001b[39mdiameterOfBinaryTree\u001b[39m(\u001b[39mself\u001b[39m, root: Optional[TreeNode]) \u001b[39m-\u001b[39m\u001b[39m>\u001b[39m \u001b[39mint\u001b[39m:\n\u001b[1;32m     <a href='vscode-notebook-cell:/Users/moladin/Library/Mobile%20Documents/com~apple~CloudDocs/code/wpu-codng/2024-coding-challange-wpu/additional_exercise.ipynb#X13sZmlsZQ%3D%3D?line=9'>10</a>\u001b[0m         max_diameter \u001b[39m=\u001b[39m \u001b[39m0\u001b[39m\n\u001b[1;32m     <a href='vscode-notebook-cell:/Users/moladin/Library/Mobile%20Documents/com~apple~CloudDocs/code/wpu-codng/2024-coding-challange-wpu/additional_exercise.ipynb#X13sZmlsZQ%3D%3D?line=11'>12</a>\u001b[0m         \u001b[39mdef\u001b[39;00m \u001b[39mdfs\u001b[39m(node):\n",
      "\u001b[0;31mNameError\u001b[0m: name 'Optional' is not defined"
     ]
    }
   ],
   "source": [
    "# Definition for a binary tree node.\n",
    "class TreeNode:\n",
    "    def __init__(self, val=0, left=None, right=None):\n",
    "        self.val = val\n",
    "        self.left = left\n",
    "        self.right = right\n",
    "\n",
    "class Solution:\n",
    "    def diameterOfBinaryTree(self, root: Optional[TreeNode]) -> int:\n",
    "        max_diameter = 0\n",
    "\n",
    "        def dfs(node):\n",
    "            nonlocal max_diameter  # Modify the variable outside the function\n",
    "            if not node:\n",
    "                return 0\n",
    "            left_height = dfs(node.left)\n",
    "            right_height = dfs(node.right)\n",
    "            # Update the diameter considering the current node\n",
    "            max_diameter = max(max_diameter, left_height + right_height)\n",
    "            # Return the height of the current subtree for the upper level\n",
    "            return max(left_height, right_height) + 1\n",
    "\n",
    "        # Start the DFS from the root node\n",
    "        dfs(root)\n",
    "        return max_diameter\n"
   ]
  },
  {
   "cell_type": "code",
   "execution_count": 11,
   "metadata": {},
   "outputs": [
    {
     "name": "stdout",
     "output_type": "stream",
     "text": [
      "17\n"
     ]
    }
   ],
   "source": [
    "def count_sheep(sheep):\n",
    "    if sheep is None:\n",
    "        return 0\n",
    "    return sum(sheep)\n",
    "\n",
    "# Example usage:\n",
    "sheep = [True, True, True, False,\n",
    "         True, True, True, True,\n",
    "         True, False, True, False,\n",
    "         True, False, False, True,\n",
    "         True, True, True, True,\n",
    "         False, False, True, True]\n",
    "number_of_sheep = count_sheep(sheep)\n",
    "print(number_of_sheep)"
   ]
  },
  {
   "cell_type": "markdown",
   "metadata": {},
   "source": [
    "# Boolean to string\n",
    "Link: https://www.codewars.com/kata/551b4501ac0447318f0009cd/python\n",
    "Implement a function which convert the given boolean value into its string representation.\n",
    "\n",
    "Note: Only valid inputs will be given."
   ]
  },
  {
   "cell_type": "code",
   "execution_count": null,
   "metadata": {},
   "outputs": [],
   "source": [
    "def boolean_to_string(b):\n",
    "    b = str(b)\n",
    "\n",
    "    #your code here\n",
    "    return b"
   ]
  },
  {
   "cell_type": "markdown",
   "metadata": {},
   "source": [
    "# Grasshoper Summation\n",
    "https://www.codewars.com/kata/55d24f55d7dd296eb9000030/solutions/python\n",
    "\n",
    "Write a program that finds the summation of every number from 1 to num. The number will always be a positive integer greater than 0. Your function only needs to return the result, what is shown between parentheses in the example below is how you reach that result and it's not part of it, see the sample tests."
   ]
  },
  {
   "cell_type": "code",
   "execution_count": null,
   "metadata": {},
   "outputs": [],
   "source": [
    "def summation(num):\n",
    "    arr = []\n",
    "    for i in range(1, num+1):\n",
    "        result = i\n",
    "        arr.append(result)\n",
    "    return sum(arr)\n",
    "\n",
    "print(summation(8))\n"
   ]
  },
  {
   "cell_type": "markdown",
   "metadata": {},
   "source": [
    "# Multiplication\n",
    "https://www.codewars.com/kata/583710ccaa6717322c000105/solutions/sql\n",
    "\n",
    "This kata is about multiplying a given number by eight if it is an even number and by nine otherwise."
   ]
  },
  {
   "cell_type": "markdown",
   "metadata": {},
   "source": [
    "#### Solution:\n",
    "```SQL\n",
    "-- # write your SQL statement here: you are given a table 'multiplication' with column 'number', return a table with column 'number' and your result in a column named 'res'.\n",
    "Select \n",
    "  number, \n",
    "  case\n",
    "    when number%2 = 0 then number*8\n",
    "    else number*9\n",
    "  end as res\n",
    "from multiplication\n",
    "```"
   ]
  },
  {
   "cell_type": "markdown",
   "metadata": {},
   "source": [
    "# Invitation to party\n",
    "https://www.codewars.com/kata/590cc86f7557c0494000007e/solutions/sql\n",
    "\n",
    "#### Solution:\n",
    "```SQL\n",
    "-- INSERT --Your code here\n",
    "\n",
    "INSERT INTO participants (name, age, attending)\n",
    "VALUES ('Nivan', '28', True);\n",
    "\n",
    "SELECT * FROM participants\n",
    "where age >= 21\n",
    ";\n",
    "\n",
    "```"
   ]
  },
  {
   "cell_type": "markdown",
   "metadata": {},
   "source": [
    "# Binnary Addition \n",
    "[Source Link](https://www.codewars.com/kata/551f37452ff852b7bd000139/train/python) \n",
    "\n",
    "Implement a function that adds two numbers together and returns their sum in binary. The conversion can be done before, or after the addition.\n",
    "\n",
    "The binary number returned should be a string.\n",
    "\n",
    "Examples:(Input1, Input2 --> Output (explanation)))\n",
    "\n",
    "`1, 1 --> \"10\" (1 + 1 = 2 in decimal or 10 in binary)`\n",
    "\n",
    "`5, 9 --> \"1110\" (5 + 9 = 14 in decimal or 1110 in binary)`"
   ]
  },
  {
   "cell_type": "markdown",
   "metadata": {},
   "source": []
  },
  {
   "cell_type": "code",
   "execution_count": 2,
   "metadata": {},
   "outputs": [
    {
     "data": {
      "text/plain": [
       "'10'"
      ]
     },
     "execution_count": 2,
     "metadata": {},
     "output_type": "execute_result"
    }
   ],
   "source": [
    "def add_binary(a,b):\n",
    "    # Convert the sum of a and b to binary\n",
    "    # [2:] means start from 3rd characters\n",
    "    result = str(bin(a + b)[2:])\n",
    "    return result\n",
    "add_binary(1,1)"
   ]
  },
  {
   "cell_type": "code",
   "execution_count": 5,
   "metadata": {},
   "outputs": [
    {
     "name": "stdout",
     "output_type": "stream",
     "text": [
      "10\n"
     ]
    }
   ],
   "source": [
    "add_binary = lambda a,b : str(bin(a+b)[2:])\n",
    "print(result(1,1))"
   ]
  },
  {
   "cell_type": "markdown",
   "metadata": {},
   "source": [
    "# Transportation on vacation\n",
    "\n",
    "[Source Link](https://www.codewars.com/kata/568d0dd208ee69389d000016/train/python) \n",
    "\n",
    "\n",
    "After a hard quarter in the office you decide to get some rest on a vacation. So you will book a flight for you and your girlfriend and try to leave all the mess behind you.\n",
    "\n",
    "You will need a rental car in order for you to get around in your vacation. The manager of the car rental makes you some good offers.\n",
    "\n",
    "Every day you rent the car costs $40. If you rent the car for 7 or more days, you get $50 off your total. Alternatively, if you rent the car for 3 or more days, you get $20 off your total.\n",
    "\n",
    "Write a code that gives out the total amount for different days(d)."
   ]
  },
  {
   "cell_type": "code",
   "execution_count": 7,
   "metadata": {},
   "outputs": [
    {
     "name": "stdout",
     "output_type": "stream",
     "text": [
      "40\n",
      "140\n",
      "230\n",
      "270\n"
     ]
    }
   ],
   "source": [
    "def rental_car_cost(d):\n",
    "    if d>=7:\n",
    "        result = 40*d-50\n",
    "    elif d>=3:\n",
    "        result = 40*d-20\n",
    "    else:\n",
    "        result = 40*d\n",
    "    return result\n",
    "\n",
    "print(rental_car_cost(1))\n",
    "print(rental_car_cost(4))\n",
    "print(rental_car_cost(7))\n",
    "print(rental_car_cost(8))"
   ]
  },
  {
   "cell_type": "code",
   "execution_count": 8,
   "metadata": {},
   "outputs": [
    {
     "name": "stdout",
     "output_type": "stream",
     "text": [
      "40\n",
      "140\n",
      "230\n",
      "270\n"
     ]
    }
   ],
   "source": [
    "rental_car_cost = lambda x: x*40-50 if x >= 7 else x*40-20 if x>=3 else x*40\n",
    "print(rental_car_cost(1))\n",
    "print(rental_car_cost(4))\n",
    "print(rental_car_cost(7))\n",
    "print(rental_car_cost(8))"
   ]
  },
  {
   "cell_type": "markdown",
   "metadata": {},
   "source": [
    "# Extract the domain name from a URL\n",
    "[Source Link](https://www.codewars.com/kata/514a024011ea4fb54200004b/python) \n",
    "\n",
    "Write a function that when given a URL as a string, parses out just the domain name and returns it as a string. For example:\n",
    "\n",
    "\n",
    "* url = \"http://github.com/carbonfive/raygun\" -> domain name = \"github\"\n",
    "* url = \"http://www.zombie-bites.com\"         -> domain name = \"zombie-bites\"\n",
    "* url = \"https://www.cnet.com\"                -> domain name = cnet\""
   ]
  },
  {
   "cell_type": "code",
   "execution_count": 9,
   "metadata": {},
   "outputs": [
    {
     "data": {
      "text/plain": [
       "'google.com'"
      ]
     },
     "execution_count": 9,
     "metadata": {},
     "output_type": "execute_result"
    }
   ],
   "source": [
    "import re\n",
    "\n",
    "def domain_name(url):\n",
    "  # Use regular expressions to match the domain name pattern\n",
    "  pattern = r\"^(?:https?://)?(?:www\\.)?([^.]+)\"\n",
    "  match = re.match(pattern, url)\n",
    "\n",
    "  # Extract the domain name if a match is found\n",
    "  if match:\n",
    "    return match.group(1)\n",
    "  else:\n",
    "    return \"\"\n",
    "\n",
    "domain_name(\"http://google.com\")"
   ]
  },
  {
   "cell_type": "markdown",
   "metadata": {},
   "source": [
    "# Is a number prime?\n",
    "\n",
    "https://www.codewars.com/kata/5262119038c0985a5b00029f/train/python\n",
    "\n",
    "\n",
    "Define a function that takes an integer argument and returns a logical value true or false depending on if the integer is a prime.\n",
    "\n",
    "Per Wikipedia, a prime number ( or a prime ) is a natural number greater than 1 that has no positive divisors other than 1 and itself.\n",
    "\n",
    "Requirements\n",
    "You can assume you will be given an integer input.\n",
    "You can not assume that the integer will be only positive. You may be given negative numbers as well ( or 0 ).\n",
    "NOTE on performance: There are no fancy optimizations required, but still the most trivial solutions might time out. Numbers go up to 2^31 ( or similar, depending on language ). Looping all the way up to n, or n/2, will be too slow."
   ]
  },
  {
   "cell_type": "code",
   "execution_count": null,
   "metadata": {},
   "outputs": [],
   "source": [
    "def is_prime(num):\n",
    "  if num <= 1:\n",
    "    return False\n",
    "  for i in range(2, int(num**0.5) + 1):\n",
    "    if num % i == 0:\n",
    "      return False\n",
    "  return True"
   ]
  },
  {
   "cell_type": "code",
   "execution_count": null,
   "metadata": {},
   "outputs": [],
   "source": [
    "is_prime = lambda n: n > 1 and not any(n % i == 0 for i in range(2, int(n**0.5) + 1))"
   ]
  },
  {
   "cell_type": "markdown",
   "metadata": {},
   "source": [
    "Certainly! Let's break down the expression `int(n**0.5) + 1` and understand its significance in primality checking algorithms:\n",
    "\n",
    "1. **`n`**: Represents the integer you're checking for primality.\n",
    "2. **`n**0.5**: Calculates the square root of `n`. This value may have decimals, depending on the original `n`.\n",
    "3. **`int(n**0.5)`**: Converts the square root to an integer using the `int()` function. This gives you the largest integer that's less than or equal to the actual square root.\n",
    "4. **`+ 1`**: Adds 1 to the integer part of the square root.\n",
    "\n",
    "**Why is this used in primality checking?**\n",
    "\n",
    "- By definition, a number can only be divided by its divisors and itself.\n",
    "- If a number `n` has a divisor greater than its square root, it must also have a corresponding divisor less than or equal to the square root (due to the commutative property of multiplication: \\(a \\cdot b = b \\cdot a\\)).\n",
    "- Therefore, to check if `n` is prime, we only need to iterate through potential divisors from 2 up to the square root of `n` (rounded up to the nearest integer using `int()`).\n",
    "\n",
    "**Example:**\n",
    "\n",
    "Let's take `n = 25`:\n",
    "- The square root of 25 is 5.\n",
    "- `int(25**0.5)` equals 5 (integer part of the square root).\n",
    "- Adding 1 gives us 6.\n",
    "\n",
    "So, in this case, the primality check algorithm would only need to look for divisors from 2 up to 6 (not all the way up to 25) to determine if 25 is prime. This optimization significantly reduces computation time.\n",
    "\n",
    "In essence, `int(n**0.5) + 1` ensures that we only check potential divisors up to the necessary range, improving efficiency. 🚀¹²\n",
    "\n",
    "Feel free to explore more mathematical concepts or ask any other questions! 😊\n",
    "\n",
    "Source: Conversation with Copilot, 6/22/2024\n",
    "(1) primes - isPrime Function for Python Language - Stack Overflow. https://stackoverflow.com/questions/15285534/isprime-function-for-python-language.\n",
    "(2) 1.6 is_prime 7 lines of code, no recursion, blazing fast (saves .... https://www.codecademy.com/forum_questions/5197bdaf9b22072db500228d.\n",
    "(3) C programming, int a[N]={0}; Meaning of this statement?. https://stackoverflow.com/questions/37237592/c-programming-int-an-0-meaning-of-this-statement."
   ]
  }
 ],
 "metadata": {
  "kernelspec": {
   "display_name": "base",
   "language": "python",
   "name": "python3"
  },
  "language_info": {
   "codemirror_mode": {
    "name": "ipython",
    "version": 3
   },
   "file_extension": ".py",
   "mimetype": "text/x-python",
   "name": "python",
   "nbconvert_exporter": "python",
   "pygments_lexer": "ipython3",
   "version": "3.11.5"
  }
 },
 "nbformat": 4,
 "nbformat_minor": 2
}
