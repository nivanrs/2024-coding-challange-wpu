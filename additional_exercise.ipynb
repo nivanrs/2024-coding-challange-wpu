{
 "cells": [
  {
   "cell_type": "markdown",
   "metadata": {},
   "source": [
    "# Additional Exercise"
   ]
  },
  {
   "cell_type": "markdown",
   "metadata": {},
   "source": [
    "## 1: Even or Odd\n",
    "\n",
    "<a href=\"https://www.codewars.com/kata/53da3dbb4a5168369a0000fe/solutions/python\">Even or Odd Link</a>\n",
    "\n",
    "Create a function that takes an integer as an argument and returns \"Even\" for even numbers or \"Odd\" for odd numbers."
   ]
  },
  {
   "cell_type": "code",
   "execution_count": 11,
   "metadata": {},
   "outputs": [
    {
     "name": "stdout",
     "output_type": "stream",
     "text": [
      "Even\n"
     ]
    }
   ],
   "source": [
    "def even_or_odd(number):\n",
    "    evaluator = lambda number: \"Even\" if number % 2 == 0 else \"Odd\"\n",
    "    return evaluator(number)\n",
    "\n",
    "print(even_or_odd(2)) # even"
   ]
  },
  {
   "cell_type": "markdown",
   "metadata": {},
   "source": [
    "this exercise demostrate how to use lambda function mix with if statement.\n",
    "<br> the original form is: \n",
    "\n",
    "```python \n",
    "lambda <arguments> : <statement1> if <condition> else <statement2> \n",
    "```\n"
   ]
  },
  {
   "cell_type": "code",
   "execution_count": 10,
   "metadata": {},
   "outputs": [
    {
     "name": "stdout",
     "output_type": "stream",
     "text": [
      "Even\n"
     ]
    }
   ],
   "source": [
    "def even_or_odd(number):\n",
    "\treturn 'Odd' if number % 2 else 'Even'\n",
    "print(even_or_odd(2)) # even"
   ]
  },
  {
   "cell_type": "markdown",
   "metadata": {},
   "source": [
    "### SQL version"
   ]
  },
  {
   "cell_type": "markdown",
   "metadata": {},
   "source": [
    "You will be given a table numbers, with one column number.\n",
    "Return a dataset with two columns: number and is_even, where number contains the original input value, and is_even containing \"Even\" or \"Odd\" depending on number column values.\n",
    "\n",
    "#### Numbers table schema\n",
    "* number INT\n",
    "\n",
    "#### Output table schema\n",
    "* number  INT\n",
    "* is_even STRING\n",
    "\n",
    "#### Solution:\n",
    "```SQL\n",
    "SELECT \n",
    "number, \n",
    "CASE WHEN number % 2 = 0 THEN 'Even' ELSE 'Odd' END AS is_even \n",
    "FROM numbers\n",
    "```\n",
    "\n",
    "#### What we learn\n",
    "- untuk membuat kolom baru bisa menggunakan case when"
   ]
  }
 ],
 "metadata": {
  "kernelspec": {
   "display_name": "base",
   "language": "python",
   "name": "python3"
  },
  "language_info": {
   "codemirror_mode": {
    "name": "ipython",
    "version": 3
   },
   "file_extension": ".py",
   "mimetype": "text/x-python",
   "name": "python",
   "nbconvert_exporter": "python",
   "pygments_lexer": "ipython3",
   "version": "3.11.5"
  }
 },
 "nbformat": 4,
 "nbformat_minor": 2
}
