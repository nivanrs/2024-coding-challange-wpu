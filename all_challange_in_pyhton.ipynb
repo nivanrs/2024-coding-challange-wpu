{
 "cells": [
  {
   "cell_type": "code",
   "execution_count": null,
   "metadata": {},
   "outputs": [],
   "source": [
    "#WPU Coding Challange\n",
    "\n",
    "\"\"\"Create a function with two arguments that will return an array of the first n multiples of x.\n",
    "\n",
    "Assume both the given number and the number of times to count will be positive numbers greater than 0.\n",
    "\n",
    "Return the results as an array or list ( depending on language ).\n",
    "\n",
    "count_by(1,10) #should return [1,2,3,4,5,6,7,8,9,10]\n",
    "count_by(2,5) #should return [2,4,6,8,10]\n",
    "\n",
    "\"\"\"\n",
    "count_by = lambda x, n: [x * r for r in range(1, n + 1)]\n",
    "\n",
    "print(count_by(1,5))\n"
   ]
  }
 ],
 "metadata": {
  "kernelspec": {
   "display_name": "Python 3",
   "language": "python",
   "name": "python3"
  },
  "language_info": {
   "name": "python",
   "version": "3.9.6"
  }
 },
 "nbformat": 4,
 "nbformat_minor": 2
}
