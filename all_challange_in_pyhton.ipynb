{
 "cells": [
  {
   "cell_type": "markdown",
   "metadata": {},
   "source": [
    "# WPU Coding Challange\n",
    "\n",
    "## Day 1 Membuat fungsi yang menghasilkan array dengan step tertentu\n",
    "link: https://www.codewars.com/kata/5513795bd3fafb56c200049e\n",
    "\n",
    "Create a function with two arguments that will return an array of the first n multiples of x.\n",
    "\n",
    "Assume both the given number and the number of times to count will be positive numbers greater than 0.\n",
    "\n",
    "Return the results as an array or list ( depending on language ).\n",
    "\n",
    "`count_by(1,10) #should return [1,2,3,4,5,6,7,8,9,10]`\n",
    "\n",
    "\n",
    "`count_by(2,5) #should return [2,4,6,8,10]`"
   ]
  },
  {
   "cell_type": "code",
   "execution_count": 3,
   "metadata": {},
   "outputs": [
    {
     "name": "stdout",
     "output_type": "stream",
     "text": [
      "[1, 2, 3, 4, 5]\n"
     ]
    }
   ],
   "source": [
    "# answer 1 cara 1 \n",
    "\n",
    "count_by = lambda x, n: [x * r for r in range(1, n + 1)]\n",
    "print(count_by(1,5))\n"
   ]
  },
  {
   "cell_type": "code",
   "execution_count": 1,
   "metadata": {},
   "outputs": [
    {
     "name": "stdout",
     "output_type": "stream",
     "text": [
      "[2, 4, 6, 8, 10]\n"
     ]
    }
   ],
   "source": [
    "# Answer 2 cara\n",
    "def count_by(x, n):\n",
    "    return [i * x for i in range(1, n + 1)]\n",
    "print(count_by(2,5))\n"
   ]
  },
  {
   "cell_type": "code",
   "execution_count": 5,
   "metadata": {},
   "outputs": [
    {
     "name": "stdout",
     "output_type": "stream",
     "text": [
      "[2, 4, 6, 8, 10]\n"
     ]
    }
   ],
   "source": [
    "def count_by(x, n):\n",
    "    arr = []\n",
    "    for num in range(1, n+1):\n",
    "        result = x * num\n",
    "        arr.append(result)\n",
    "    return arr\n",
    "\n",
    "print(count_by(2,5))"
   ]
  },
  {
   "cell_type": "markdown",
   "metadata": {},
   "source": [
    "## Day 2 Reverse Sequence (Membuat array hitung mundur)"
   ]
  },
  {
   "cell_type": "markdown",
   "metadata": {},
   "source": [
    "link: https://www.codewars.com/kata/5a00e05cc374cb34d100000d/train/python\n",
    "\n",
    "Build a function that returns an array of integers from n to 1 where n>0.\n",
    "\n",
    "Example : n=5 --> [5,4,3,2,1]"
   ]
  },
  {
   "cell_type": "code",
   "execution_count": 13,
   "metadata": {},
   "outputs": [
    {
     "name": "stdout",
     "output_type": "stream",
     "text": [
      "[5, 4, 3, 2, 1]\n"
     ]
    }
   ],
   "source": [
    "def reverse_seq(n):\n",
    "    arr = []\n",
    "    for num in range(1,n+1):\n",
    "        arr.append(num)\n",
    "    arr.reverse()\n",
    "    return arr\n",
    "\n",
    "print(reverse_seq(5))"
   ]
  },
  {
   "cell_type": "code",
   "execution_count": 14,
   "metadata": {},
   "outputs": [
    {
     "name": "stdout",
     "output_type": "stream",
     "text": [
      "[5, 4, 3, 2, 1]\n"
     ]
    }
   ],
   "source": [
    "def reverseseq(n):\n",
    "    return list(range(n, 0, -1))\n",
    "\n",
    "print(reverse_seq(5))"
   ]
  },
  {
   "cell_type": "code",
   "execution_count": 15,
   "metadata": {},
   "outputs": [
    {
     "name": "stdout",
     "output_type": "stream",
     "text": [
      "[5, 4, 3, 2, 1]\n"
     ]
    }
   ],
   "source": [
    "reverse_seq = lambda n: list(range(n, 0, -1))\n",
    "\n",
    "print(reverse_seq(5))"
   ]
  },
  {
   "cell_type": "markdown",
   "metadata": {},
   "source": [
    "# Day 3 Is he Gonna Survice (Membuat prediksi keselamatan pejuang)\n",
    "link: https://www.codewars.com/kata/59ca8246d751df55cc00014c\n",
    "\n",
    "video: https://www.youtube.com/watch?v=y2YEemIlSPo&t=13s\n",
    "\n",
    "A hero is on his way to the castle to complete his mission. However, he's been told that the castle is surrounded with a couple of powerful dragons! each dragon takes 2 bullets to be defeated, our hero has no idea how many bullets he should carry.. Assuming he's gonna grab a specific given number of bullets and move forward to fight another specific given number of dragons, will he survive?\n",
    "\n",
    "Return true if yes, false otherwise :)\n"
   ]
  },
  {
   "cell_type": "code",
   "execution_count": 3,
   "metadata": {},
   "outputs": [
    {
     "name": "stdout",
     "output_type": "stream",
     "text": [
      "True\n"
     ]
    }
   ],
   "source": [
    "def hero(bullets, dragons):\n",
    "    pontentials = bullets/2>=dragons\n",
    "    return pontentials\n",
    "\n",
    "print(hero(2,1))\n"
   ]
  },
  {
   "cell_type": "markdown",
   "metadata": {},
   "source": [
    "# Day 4 Sentence Smash (Membuat penggabungan beberapa string)\n",
    "link: https://www.codewars.com/kata/53dc23c68a0c93699800041d\n",
    "\n",
    "video: https://www.youtube.com/watch?v=JCDVi5Pot30\n",
    "\n",
    "\n",
    "Write a function that takes an array of words and smashes them together into a sentence and returns the sentence. You can ignore any need to sanitize words or add punctuation, but you should add spaces between each word. Be careful, there shouldn't be a space at the beginning or the end of the sentence!\n",
    "\n",
    "Example\n",
    "\n",
    "['hello', 'world', 'this', 'is', 'great']  =>  'hello world this is great'"
   ]
  },
  {
   "cell_type": "code",
   "execution_count": 20,
   "metadata": {},
   "outputs": [
    {
     "name": "stdout",
     "output_type": "stream",
     "text": [
      "hello world\n"
     ]
    }
   ],
   "source": [
    "def smash(words):\n",
    "    if not words:\n",
    "        return \"\"\n",
    "    \n",
    "    sentence = []\n",
    "    for i in words:\n",
    "        sentence= \" \".join(words)\n",
    "        sentence.strip()\n",
    "    return sentence\n",
    "    \n",
    "print(smash([\"hello\", \"world\"]))"
   ]
  },
  {
   "cell_type": "markdown",
   "metadata": {},
   "source": [
    "# Day 5 Will you make it? (Melakukan prediksi apakah sampai jarak tertentu atau tidak)\n",
    "link: https://www.codewars.com/kata/53dc23c68a0c93699800041d\n",
    "\n",
    "video: https://www.youtube.com/watch?v=WRVXaotldZc\n",
    "\n",
    "You were camping with your friends far away from home, but when it's time to go back, you realize that your fuel is running out and the nearest pump is 50 miles away! You know that on average, your car runs on about 25 miles per gallon. There are 2 gallons left.\n",
    "\n",
    "Considering these factors, write a function that tells you if it is possible to get to the pump or not.\n",
    "\n",
    "Function should return true if it is possible and false if not.\n"
   ]
  },
  {
   "cell_type": "code",
   "execution_count": 22,
   "metadata": {},
   "outputs": [
    {
     "data": {
      "text/plain": [
       "True"
      ]
     },
     "execution_count": 22,
     "metadata": {},
     "output_type": "execute_result"
    }
   ],
   "source": [
    "def zero_fuel(distance_to_pump, mpg, fuel_left):\n",
    "    distance = mpg * fuel_left\n",
    "    return distance >= distance_to_pump\n",
    "zero_fuel(50, 25, 2)    "
   ]
  },
  {
   "cell_type": "code",
   "execution_count": 23,
   "metadata": {},
   "outputs": [
    {
     "data": {
      "text/plain": [
       "True"
      ]
     },
     "execution_count": 23,
     "metadata": {},
     "output_type": "execute_result"
    }
   ],
   "source": [
    "def zero_fuel(distance_to_pump, mpg, fuel_left):\n",
    "    return mpg * fuel_left >= distance_to_pump\n",
    "zero_fuel(50, 25, 2)    "
   ]
  },
  {
   "cell_type": "code",
   "execution_count": 28,
   "metadata": {},
   "outputs": [
    {
     "data": {
      "text/plain": [
       "True"
      ]
     },
     "execution_count": 28,
     "metadata": {},
     "output_type": "execute_result"
    }
   ],
   "source": [
    "zero_fuel = lambda a, b, c: b*c>=a\n",
    "zero_fuel(50, 25, 2)    "
   ]
  },
  {
   "cell_type": "markdown",
   "metadata": {},
   "source": [
    "# Day 6 DNA to RNA (mengubah DNA menjadi RNA)\n",
    "link: https://www.codewars.com/kata/5556282156230d0e5e000089\n",
    "\n",
    "video: https://www.youtube.com/watch?v=Egu-_yAPljY&t=458s\n",
    "\n",
    "Deoxyribonucleic acid, DNA is the primary information storage molecule in biological systems. It is composed of four nucleic acid bases Guanine ('G'), Cytosine ('C'), Adenine ('A'), and Thymine ('T').\n",
    "\n",
    "Ribonucleic acid, RNA, is the primary messenger molecule in cells. RNA differs slightly from DNA its chemical structure and contains no Thymine. In RNA Thymine is replaced by another nucleic acid Uracil ('U').\n",
    "\n",
    "Create a function which translates a given DNA string into RNA.\n",
    "\n",
    "For example:\n",
    "\n",
    "\"GCAT\"  =>  \"GCAU\"\n",
    "The input string can be of arbitrary length - in particular, it may be empty. All input is guaranteed to be valid, i.e. each input string will only ever consist of 'G', 'C', 'A' and/or 'T'.\n"
   ]
  },
  {
   "cell_type": "code",
   "execution_count": 25,
   "metadata": {},
   "outputs": [
    {
     "name": "stdout",
     "output_type": "stream",
     "text": [
      "GCAU\n"
     ]
    }
   ],
   "source": [
    "def dna_to_rna(dna):\n",
    "    # deklarasi variable kosong\n",
    "    rna = \"\"\n",
    "    # Nukletotida adalah satuan terkecil dari dna, jadi iterasinya menggunakan nukleotida bukan i\n",
    "    for nucleotide in dna:\n",
    "        # Mengganti tiap nukleotida T dengan U\n",
    "        if nucleotide == \"T\":\n",
    "            rna += \"U\"\n",
    "        #yang lain tidak diganti makannya di taruh di belakang\n",
    "        else:\n",
    "            rna += nucleotide\n",
    "    # di return biar keluar hasilnya\n",
    "    return rna\n",
    "\n",
    "print(dna_to_rna(\"GCAT\"))  # Output: GCAU"
   ]
  },
  {
   "cell_type": "code",
   "execution_count": 33,
   "metadata": {},
   "outputs": [
    {
     "name": "stdout",
     "output_type": "stream",
     "text": [
      "GCAU\n"
     ]
    }
   ],
   "source": [
    "def DNAtoRNA(dna):\n",
    "    return \"\".join([\"U\" if c==\"T\" else c for c in dna])\n",
    "print(DNAtoRNA(\"GCAT\"))  # Output: GCAU"
   ]
  },
  {
   "cell_type": "code",
   "execution_count": 34,
   "metadata": {},
   "outputs": [
    {
     "name": "stdout",
     "output_type": "stream",
     "text": [
      "GCAU\n"
     ]
    }
   ],
   "source": [
    "def DNAtoRNA(dna):\n",
    "    return dna.replace('T', 'U')\n",
    "print(DNAtoRNA(\"GCAT\"))  # Output: GCAU"
   ]
  },
  {
   "cell_type": "markdown",
   "metadata": {},
   "source": [
    "Count the number of Duplicates\n",
    "Write a function that will return the count of distinct case-insensitive alphabetic characters and numeric digits that occur more than once in the input string. The input string can be assumed to contain only alphabets (both uppercase and lowercase) and numeric digits.\n",
    "\n",
    "Example\n",
    "\"abcde\" -> 0 # no characters repeats more than once\n",
    "\"aabbcde\" -> 2 # 'a' and 'b'\n",
    "\"aabBcde\" -> 2 # 'a' occurs twice and 'b' twice (`b` and `B`)\n",
    "\"indivisibility\" -> 1 # 'i' occurs six times\n",
    "\"Indivisibilities\" -> 2 # 'i' occurs seven times and 's' occurs twice\n",
    "\"aA11\" -> 2 # 'a' and '1'\n",
    "\"ABBA\" -> 2 # 'A' and 'B' each occur twice"
   ]
  },
  {
   "cell_type": "code",
   "execution_count": 2,
   "metadata": {},
   "outputs": [],
   "source": [
    "def duplicate_count(text):\n",
    "  \"\"\"\n",
    "  This function counts the number of distinct case-insensitive characters \n",
    "  (alphabetic and numeric) that appear more than once in the input string.\n",
    "\n",
    "  Args:\n",
    "      text: The input string containing only alphanumeric characters.\n",
    "\n",
    "  Returns:\n",
    "      The count of distinct characters that appear more than once.\n",
    "  \"\"\"\n",
    "  char_counts = {}\n",
    "  duplicates = 0\n",
    "  for char in text.lower():\n",
    "    if char.isalnum():  # Check if character is alphanumeric\n",
    "      char_counts[char] = char_counts.get(char, 0) + 1\n",
    "      if char_counts[char] == 2:\n",
    "        duplicates += 1\n",
    "  return duplicates"
   ]
  },
  {
   "cell_type": "code",
   "execution_count": 5,
   "metadata": {},
   "outputs": [
    {
     "name": "stdout",
     "output_type": "stream",
     "text": [
      "0\n",
      "2\n",
      "2\n",
      "1\n",
      "2\n",
      "2\n",
      "2\n"
     ]
    }
   ],
   "source": [
    "# Examples\n",
    "print(duplicate_count(\"abcde\"))  # Output: 0\n",
    "print(duplicate_count(\"aabbcde\"))  # Output: 2\n",
    "print(duplicate_count(\"aabBcde\"))  # Output: 2\n",
    "print(duplicate_count(\"indivisibility\"))  # Output: 1\n",
    "print(duplicate_count(\"Indivisibilities\"))  # Output: 2\n",
    "print(duplicate_count(\"aA11\"))  # Output: 2\n",
    "print(duplicate_count(\"ABBA\"))  # Output: 2\n"
   ]
  },
  {
   "cell_type": "code",
   "execution_count": null,
   "metadata": {},
   "outputs": [],
   "source": []
  }
 ],
 "metadata": {
  "kernelspec": {
   "display_name": "Python 3",
   "language": "python",
   "name": "python3"
  },
  "language_info": {
   "codemirror_mode": {
    "name": "ipython",
    "version": 3
   },
   "file_extension": ".py",
   "mimetype": "text/x-python",
   "name": "python",
   "nbconvert_exporter": "python",
   "pygments_lexer": "ipython3",
   "version": "3.11.5"
  }
 },
 "nbformat": 4,
 "nbformat_minor": 2
}
