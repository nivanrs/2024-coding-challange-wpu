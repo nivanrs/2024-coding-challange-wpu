{
 "cells": [
  {
   "cell_type": "markdown",
   "metadata": {},
   "source": [
    "# WPU Coding Challange\n",
    "\n",
    "## Day 1\n",
    "link: https://www.codewars.com/kata/5513795bd3fafb56c200049e\n",
    "\n",
    "Create a function with two arguments that will return an array of the first n multiples of x.\n",
    "\n",
    "Assume both the given number and the number of times to count will be positive numbers greater than 0.\n",
    "\n",
    "Return the results as an array or list ( depending on language ).\n",
    "\n",
    "`count_by(1,10) #should return [1,2,3,4,5,6,7,8,9,10]`\n",
    "\n",
    "\n",
    "`count_by(2,5) #should return [2,4,6,8,10]`"
   ]
  },
  {
   "cell_type": "code",
   "execution_count": 3,
   "metadata": {},
   "outputs": [
    {
     "name": "stdout",
     "output_type": "stream",
     "text": [
      "[1, 2, 3, 4, 5]\n"
     ]
    }
   ],
   "source": [
    "# answer 1 cara 1 \n",
    "\n",
    "count_by = lambda x, n: [x * r for r in range(1, n + 1)]\n",
    "print(count_by(1,5))\n"
   ]
  },
  {
   "cell_type": "code",
   "execution_count": 1,
   "metadata": {},
   "outputs": [
    {
     "name": "stdout",
     "output_type": "stream",
     "text": [
      "[2, 4, 6, 8, 10]\n"
     ]
    }
   ],
   "source": [
    "# Answer 2 cara\n",
    "def count_by(x, n):\n",
    "    return [i * x for i in range(1, n + 1)]\n",
    "print(count_by(2,5))\n"
   ]
  },
  {
   "cell_type": "code",
   "execution_count": 5,
   "metadata": {},
   "outputs": [
    {
     "name": "stdout",
     "output_type": "stream",
     "text": [
      "[2, 4, 6, 8, 10]\n"
     ]
    }
   ],
   "source": [
    "def count_by(x, n):\n",
    "    arr = []\n",
    "    for num in range(1, n+1):\n",
    "        result = x * num\n",
    "        arr.append(result)\n",
    "    return arr\n",
    "\n",
    "print(count_by(2,5))"
   ]
  },
  {
   "cell_type": "markdown",
   "metadata": {},
   "source": [
    "## Day 2 Reverse Sequence "
   ]
  },
  {
   "cell_type": "markdown",
   "metadata": {},
   "source": [
    "link: https://www.codewars.com/kata/5a00e05cc374cb34d100000d/train/python\n",
    "\n",
    "Build a function that returns an array of integers from n to 1 where n>0.\n",
    "\n",
    "Example : n=5 --> [5,4,3,2,1]"
   ]
  },
  {
   "cell_type": "code",
   "execution_count": 13,
   "metadata": {},
   "outputs": [
    {
     "name": "stdout",
     "output_type": "stream",
     "text": [
      "[5, 4, 3, 2, 1]\n"
     ]
    }
   ],
   "source": [
    "def reverse_seq(n):\n",
    "    arr = []\n",
    "    for num in range(1,n+1):\n",
    "        arr.append(num)\n",
    "    arr.reverse()\n",
    "    return arr\n",
    "\n",
    "print(reverse_seq(5))"
   ]
  },
  {
   "cell_type": "code",
   "execution_count": 14,
   "metadata": {},
   "outputs": [
    {
     "name": "stdout",
     "output_type": "stream",
     "text": [
      "[5, 4, 3, 2, 1]\n"
     ]
    }
   ],
   "source": [
    "def reverseseq(n):\n",
    "    return list(range(n, 0, -1))\n",
    "\n",
    "print(reverse_seq(5))"
   ]
  },
  {
   "cell_type": "code",
   "execution_count": 15,
   "metadata": {},
   "outputs": [
    {
     "name": "stdout",
     "output_type": "stream",
     "text": [
      "[5, 4, 3, 2, 1]\n"
     ]
    }
   ],
   "source": [
    "reverse_seq = lambda n: list(range(n, 0, -1))\n",
    "\n",
    "print(reverse_seq(5))"
   ]
  },
  {
   "cell_type": "markdown",
   "metadata": {},
   "source": [
    "# Day 3 Is he Gonna Survice\n",
    "link: https://www.codewars.com/kata/59ca8246d751df55cc00014c\n",
    "\n",
    "video: https://www.youtube.com/watch?v=y2YEemIlSPo&t=13s\n",
    "\n",
    "A hero is on his way to the castle to complete his mission. However, he's been told that the castle is surrounded with a couple of powerful dragons! each dragon takes 2 bullets to be defeated, our hero has no idea how many bullets he should carry.. Assuming he's gonna grab a specific given number of bullets and move forward to fight another specific given number of dragons, will he survive?\n",
    "\n",
    "Return true if yes, false otherwise :)\n"
   ]
  },
  {
   "cell_type": "code",
   "execution_count": 3,
   "metadata": {},
   "outputs": [
    {
     "name": "stdout",
     "output_type": "stream",
     "text": [
      "True\n"
     ]
    }
   ],
   "source": [
    "def hero(bullets, dragons):\n",
    "    pontentials = bullets/2>=dragons\n",
    "    return pontentials\n",
    "\n",
    "print(hero(2,1))\n"
   ]
  },
  {
   "cell_type": "markdown",
   "metadata": {},
   "source": [
    "# Day 4 Sentence Smash\n",
    "link: https://www.codewars.com/kata/53dc23c68a0c93699800041d\n",
    "\n",
    "video: https://www.youtube.com/watch?v=JCDVi5Pot30\n",
    "\n",
    "\n",
    "Write a function that takes an array of words and smashes them together into a sentence and returns the sentence. You can ignore any need to sanitize words or add punctuation, but you should add spaces between each word. Be careful, there shouldn't be a space at the beginning or the end of the sentence!\n",
    "\n",
    "Example\n",
    "\n",
    "['hello', 'world', 'this', 'is', 'great']  =>  'hello world this is great'"
   ]
  },
  {
   "cell_type": "code",
   "execution_count": 20,
   "metadata": {},
   "outputs": [
    {
     "name": "stdout",
     "output_type": "stream",
     "text": [
      "hello world\n"
     ]
    }
   ],
   "source": [
    "def smash(words):\n",
    "    if not words:\n",
    "        return \"\"\n",
    "    \n",
    "    sentence = []\n",
    "    for i in words:\n",
    "        sentence= \" \".join(words)\n",
    "        sentence.strip()\n",
    "    return sentence\n",
    "    \n",
    "print(smash([\"hello\", \"world\"]))"
   ]
  },
  {
   "cell_type": "markdown",
   "metadata": {},
   "source": [
    "# Day 5 Will you make it?\n",
    "link: https://www.codewars.com/kata/53dc23c68a0c93699800041d\n",
    "\n",
    "video: https://www.youtube.com/watch?v=WRVXaotldZc\n",
    "\n",
    "You were camping with your friends far away from home, but when it's time to go back, you realize that your fuel is running out and the nearest pump is 50 miles away! You know that on average, your car runs on about 25 miles per gallon. There are 2 gallons left.\n",
    "\n",
    "Considering these factors, write a function that tells you if it is possible to get to the pump or not.\n",
    "\n",
    "Function should return true if it is possible and false if not.\n"
   ]
  },
  {
   "cell_type": "code",
   "execution_count": 22,
   "metadata": {},
   "outputs": [
    {
     "data": {
      "text/plain": [
       "True"
      ]
     },
     "execution_count": 22,
     "metadata": {},
     "output_type": "execute_result"
    }
   ],
   "source": [
    "def zero_fuel(distance_to_pump, mpg, fuel_left):\n",
    "    distance = mpg * fuel_left\n",
    "    return distance >= distance_to_pump\n",
    "zero_fuel(50, 25, 2)    "
   ]
  },
  {
   "cell_type": "code",
   "execution_count": null,
   "metadata": {},
   "outputs": [],
   "source": []
  }
 ],
 "metadata": {
  "kernelspec": {
   "display_name": "Python 3",
   "language": "python",
   "name": "python3"
  },
  "language_info": {
   "codemirror_mode": {
    "name": "ipython",
    "version": 3
   },
   "file_extension": ".py",
   "mimetype": "text/x-python",
   "name": "python",
   "nbconvert_exporter": "python",
   "pygments_lexer": "ipython3",
   "version": "3.11.5"
  }
 },
 "nbformat": 4,
 "nbformat_minor": 2
}
